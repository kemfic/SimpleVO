{
 "cells": [
  {
   "cell_type": "code",
   "execution_count": 1,
   "metadata": {},
   "outputs": [],
   "source": [
    "import numpy as np\n",
    "import matplotlib.pyplot as plt\n",
    "%matplotlib inline"
   ]
  },
  {
   "cell_type": "code",
   "execution_count": 2,
   "metadata": {},
   "outputs": [],
   "source": [
    "def reprojection_error(angles, t, x0, x1):\n",
    "    # xEx' = 0\n",
    "    # E = RS = R[t]_x\n",
    "    # compose Essential Matrix\n",
    "    angles = params[0]\n",
    "    t = params[1]\n",
    "    x0 = params[2]\n",
    "    x1 = params[3]\n",
    "    R = euler2rot3d(angles)\n",
    "    S = np.array([[0., -t[2], t[1]],\n",
    "                  [t[2], 0., -t[2]],\n",
    "                  [-t[1], t[0], 0.]])\n",
    "    E = R @ S \n",
    "    # cost\n",
    "    return np.concatenate(((x0@ E.T @ x1), (x1@ np.linalg.inv(E).T @ x0)))\n",
    "\n"
   ]
  },
  {
   "cell_type": "code",
   "execution_count": 17,
   "metadata": {},
   "outputs": [
    {
     "data": {
      "text/plain": [
       "<matplotlib.image.AxesImage at 0x7fa4cccb4518>"
      ]
     },
     "execution_count": 17,
     "metadata": {},
     "output_type": "execute_result"
    },
    {
     "data": {
      "image/png": "[encoded data removed]",
      "text/plain": [
       "<Figure size 432x288 with 1 Axes>"
      ]
     },
     "metadata": {},
     "output_type": "display_data"
    }
   ],
   "source": [
    "pts = np.random.randint(299, size=(200,2))\n",
    "img = np.zeros((300,300))\n",
    "img[pts[:,0], pts[:,1]] = 1\n",
    "\n",
    "angles = [10,0,0]\n",
    "t = [1,1,10]\n",
    "\n"
   ]
  },
  {
   "cell_type": "code",
   "execution_count": null,
   "metadata": {},
   "outputs": [],
   "source": []
  }
 ],
 "metadata": {
  "kernelspec": {
   "display_name": "Python 3",
   "language": "python",
   "name": "python3"
  },
  "language_info": {
   "codemirror_mode": {
    "name": "ipython",
    "version": 3
   },
   "file_extension": ".py",
   "mimetype": "text/x-python",
   "name": "python",
   "nbconvert_exporter": "python",
   "pygments_lexer": "ipython3",
   "version": "3.6.7"
  }
 },
 "nbformat": 4,
 "nbformat_minor": 2
}
